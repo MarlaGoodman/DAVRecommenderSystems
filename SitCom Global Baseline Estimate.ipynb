{
 "cells": [
  {
   "cell_type": "markdown",
   "metadata": {},
   "source": [
    "# Recommender Systems HW 1 \n",
    "\n",
    "Marla Goodman  9/7/2022"
   ]
  },
  {
   "cell_type": "markdown",
   "metadata": {},
   "source": [
    "Assignment: choose at least six recent popular items (movie, books, television programs, courses, or other items that you find interesting).  Design a survey asking respondents to rate each item that they have seen on a scale of 1 to 5.  Send your survey out to family, friends, and/or class mates.  You should get responses from at least five people that you know.  There needs to be at least one respondent with at least two unrated items.  Your task is to use the global baseline estimate algorithm to determine ratings for unseen items, then recommend an item to at least one of your survey respondents."
   ]
  },
  {
   "cell_type": "markdown",
   "metadata": {},
   "source": [
    "#### Step 1. Get and organize data"
   ]
  },
  {
   "cell_type": "code",
   "execution_count": 94,
   "metadata": {},
   "outputs": [
    {
     "data": {
      "text/html": [
       "<div>\n",
       "<style scoped>\n",
       "    .dataframe tbody tr th:only-of-type {\n",
       "        vertical-align: middle;\n",
       "    }\n",
       "\n",
       "    .dataframe tbody tr th {\n",
       "        vertical-align: top;\n",
       "    }\n",
       "\n",
       "    .dataframe thead th {\n",
       "        text-align: right;\n",
       "    }\n",
       "</style>\n",
       "<table border=\"1\" class=\"dataframe\">\n",
       "  <thead>\n",
       "    <tr style=\"text-align: right;\">\n",
       "      <th></th>\n",
       "      <th>Unnamed: 0</th>\n",
       "      <th>Parks&amp;Rec</th>\n",
       "      <th>ModernFamily</th>\n",
       "      <th>TheOffice</th>\n",
       "      <th>Brooklyn99</th>\n",
       "      <th>BigBangTheory</th>\n",
       "      <th>30Rock</th>\n",
       "    </tr>\n",
       "  </thead>\n",
       "  <tbody>\n",
       "    <tr>\n",
       "      <th>0</th>\n",
       "      <td>Phil</td>\n",
       "      <td>3.0</td>\n",
       "      <td>3.0</td>\n",
       "      <td>NaN</td>\n",
       "      <td>1.0</td>\n",
       "      <td>5.0</td>\n",
       "      <td>NaN</td>\n",
       "    </tr>\n",
       "    <tr>\n",
       "      <th>1</th>\n",
       "      <td>Ruth</td>\n",
       "      <td>1.0</td>\n",
       "      <td>NaN</td>\n",
       "      <td>NaN</td>\n",
       "      <td>1.0</td>\n",
       "      <td>NaN</td>\n",
       "      <td>NaN</td>\n",
       "    </tr>\n",
       "    <tr>\n",
       "      <th>2</th>\n",
       "      <td>Jill</td>\n",
       "      <td>2.0</td>\n",
       "      <td>4.0</td>\n",
       "      <td>2.0</td>\n",
       "      <td>NaN</td>\n",
       "      <td>2.0</td>\n",
       "      <td>1.0</td>\n",
       "    </tr>\n",
       "    <tr>\n",
       "      <th>3</th>\n",
       "      <td>Amy</td>\n",
       "      <td>5.0</td>\n",
       "      <td>3.0</td>\n",
       "      <td>4.0</td>\n",
       "      <td>5.0</td>\n",
       "      <td>5.0</td>\n",
       "      <td>3.0</td>\n",
       "    </tr>\n",
       "    <tr>\n",
       "      <th>4</th>\n",
       "      <td>Ian</td>\n",
       "      <td>NaN</td>\n",
       "      <td>1.0</td>\n",
       "      <td>4.0</td>\n",
       "      <td>1.0</td>\n",
       "      <td>NaN</td>\n",
       "      <td>4.0</td>\n",
       "    </tr>\n",
       "  </tbody>\n",
       "</table>\n",
       "</div>"
      ],
      "text/plain": [
       "  Unnamed: 0  Parks&Rec  ModernFamily  TheOffice  Brooklyn99  BigBangTheory  \\\n",
       "0       Phil        3.0           3.0        NaN         1.0            5.0   \n",
       "1       Ruth        1.0           NaN        NaN         1.0            NaN   \n",
       "2       Jill        2.0           4.0        2.0         NaN            2.0   \n",
       "3       Amy         5.0           3.0        4.0         5.0            5.0   \n",
       "4        Ian        NaN           1.0        4.0         1.0            NaN   \n",
       "\n",
       "   30Rock  \n",
       "0     NaN  \n",
       "1     NaN  \n",
       "2     1.0  \n",
       "3     3.0  \n",
       "4     4.0  "
      ]
     },
     "execution_count": 94,
     "metadata": {},
     "output_type": "execute_result"
    }
   ],
   "source": [
    "#import pandas\n",
    "import pandas as pd\n",
    "\n",
    "#read in CSV\n",
    "df=pd.read_csv('https://raw.githubusercontent.com/MarlaGoodman/DAVRecommenderSystems/main/SitComs.csv')\n",
    "\n",
    "#show df\n",
    "df"
   ]
  },
  {
   "cell_type": "code",
   "execution_count": 95,
   "metadata": {},
   "outputs": [
    {
     "data": {
      "text/html": [
       "<div>\n",
       "<style scoped>\n",
       "    .dataframe tbody tr th:only-of-type {\n",
       "        vertical-align: middle;\n",
       "    }\n",
       "\n",
       "    .dataframe tbody tr th {\n",
       "        vertical-align: top;\n",
       "    }\n",
       "\n",
       "    .dataframe thead th {\n",
       "        text-align: right;\n",
       "    }\n",
       "</style>\n",
       "<table border=\"1\" class=\"dataframe\">\n",
       "  <thead>\n",
       "    <tr style=\"text-align: right;\">\n",
       "      <th></th>\n",
       "      <th>Respondent</th>\n",
       "      <th>Parks&amp;Rec</th>\n",
       "      <th>ModernFamily</th>\n",
       "      <th>TheOffice</th>\n",
       "      <th>Brooklyn99</th>\n",
       "      <th>BigBangTheory</th>\n",
       "      <th>30Rock</th>\n",
       "    </tr>\n",
       "  </thead>\n",
       "  <tbody>\n",
       "    <tr>\n",
       "      <th>0</th>\n",
       "      <td>Phil</td>\n",
       "      <td>3.0</td>\n",
       "      <td>3.0</td>\n",
       "      <td>NaN</td>\n",
       "      <td>1.0</td>\n",
       "      <td>5.0</td>\n",
       "      <td>NaN</td>\n",
       "    </tr>\n",
       "    <tr>\n",
       "      <th>1</th>\n",
       "      <td>Ruth</td>\n",
       "      <td>1.0</td>\n",
       "      <td>NaN</td>\n",
       "      <td>NaN</td>\n",
       "      <td>1.0</td>\n",
       "      <td>NaN</td>\n",
       "      <td>NaN</td>\n",
       "    </tr>\n",
       "    <tr>\n",
       "      <th>2</th>\n",
       "      <td>Jill</td>\n",
       "      <td>2.0</td>\n",
       "      <td>4.0</td>\n",
       "      <td>2.0</td>\n",
       "      <td>NaN</td>\n",
       "      <td>2.0</td>\n",
       "      <td>1.0</td>\n",
       "    </tr>\n",
       "    <tr>\n",
       "      <th>3</th>\n",
       "      <td>Amy</td>\n",
       "      <td>5.0</td>\n",
       "      <td>3.0</td>\n",
       "      <td>4.0</td>\n",
       "      <td>5.0</td>\n",
       "      <td>5.0</td>\n",
       "      <td>3.0</td>\n",
       "    </tr>\n",
       "    <tr>\n",
       "      <th>4</th>\n",
       "      <td>Ian</td>\n",
       "      <td>NaN</td>\n",
       "      <td>1.0</td>\n",
       "      <td>4.0</td>\n",
       "      <td>1.0</td>\n",
       "      <td>NaN</td>\n",
       "      <td>4.0</td>\n",
       "    </tr>\n",
       "  </tbody>\n",
       "</table>\n",
       "</div>"
      ],
      "text/plain": [
       "  Respondent  Parks&Rec  ModernFamily  TheOffice  Brooklyn99  BigBangTheory  \\\n",
       "0       Phil        3.0           3.0        NaN         1.0            5.0   \n",
       "1       Ruth        1.0           NaN        NaN         1.0            NaN   \n",
       "2       Jill        2.0           4.0        2.0         NaN            2.0   \n",
       "3       Amy         5.0           3.0        4.0         5.0            5.0   \n",
       "4        Ian        NaN           1.0        4.0         1.0            NaN   \n",
       "\n",
       "   30Rock  \n",
       "0     NaN  \n",
       "1     NaN  \n",
       "2     1.0  \n",
       "3     3.0  \n",
       "4     4.0  "
      ]
     },
     "execution_count": 95,
     "metadata": {},
     "output_type": "execute_result"
    }
   ],
   "source": [
    "#rename respondent column to 'Respondent'\n",
    "df.rename(columns = {'Unnamed: 0':'Respondent'}, inplace = True)\n",
    "\n",
    "#show df\n",
    "df"
   ]
  },
  {
   "cell_type": "code",
   "execution_count": 96,
   "metadata": {},
   "outputs": [
    {
     "data": {
      "text/html": [
       "<div>\n",
       "<style scoped>\n",
       "    .dataframe tbody tr th:only-of-type {\n",
       "        vertical-align: middle;\n",
       "    }\n",
       "\n",
       "    .dataframe tbody tr th {\n",
       "        vertical-align: top;\n",
       "    }\n",
       "\n",
       "    .dataframe thead th {\n",
       "        text-align: right;\n",
       "    }\n",
       "</style>\n",
       "<table border=\"1\" class=\"dataframe\">\n",
       "  <thead>\n",
       "    <tr style=\"text-align: right;\">\n",
       "      <th></th>\n",
       "      <th>Parks&amp;Rec</th>\n",
       "      <th>ModernFamily</th>\n",
       "      <th>TheOffice</th>\n",
       "      <th>Brooklyn99</th>\n",
       "      <th>BigBangTheory</th>\n",
       "      <th>30Rock</th>\n",
       "    </tr>\n",
       "    <tr>\n",
       "      <th>Respondent</th>\n",
       "      <th></th>\n",
       "      <th></th>\n",
       "      <th></th>\n",
       "      <th></th>\n",
       "      <th></th>\n",
       "      <th></th>\n",
       "    </tr>\n",
       "  </thead>\n",
       "  <tbody>\n",
       "    <tr>\n",
       "      <th>Phil</th>\n",
       "      <td>3.0</td>\n",
       "      <td>3.0</td>\n",
       "      <td>NaN</td>\n",
       "      <td>1.0</td>\n",
       "      <td>5.0</td>\n",
       "      <td>NaN</td>\n",
       "    </tr>\n",
       "    <tr>\n",
       "      <th>Ruth</th>\n",
       "      <td>1.0</td>\n",
       "      <td>NaN</td>\n",
       "      <td>NaN</td>\n",
       "      <td>1.0</td>\n",
       "      <td>NaN</td>\n",
       "      <td>NaN</td>\n",
       "    </tr>\n",
       "    <tr>\n",
       "      <th>Jill</th>\n",
       "      <td>2.0</td>\n",
       "      <td>4.0</td>\n",
       "      <td>2.0</td>\n",
       "      <td>NaN</td>\n",
       "      <td>2.0</td>\n",
       "      <td>1.0</td>\n",
       "    </tr>\n",
       "    <tr>\n",
       "      <th>Amy</th>\n",
       "      <td>5.0</td>\n",
       "      <td>3.0</td>\n",
       "      <td>4.0</td>\n",
       "      <td>5.0</td>\n",
       "      <td>5.0</td>\n",
       "      <td>3.0</td>\n",
       "    </tr>\n",
       "    <tr>\n",
       "      <th>Ian</th>\n",
       "      <td>NaN</td>\n",
       "      <td>1.0</td>\n",
       "      <td>4.0</td>\n",
       "      <td>1.0</td>\n",
       "      <td>NaN</td>\n",
       "      <td>4.0</td>\n",
       "    </tr>\n",
       "  </tbody>\n",
       "</table>\n",
       "</div>"
      ],
      "text/plain": [
       "            Parks&Rec  ModernFamily  TheOffice  Brooklyn99  BigBangTheory  \\\n",
       "Respondent                                                                  \n",
       "Phil              3.0           3.0        NaN         1.0            5.0   \n",
       "Ruth              1.0           NaN        NaN         1.0            NaN   \n",
       "Jill              2.0           4.0        2.0         NaN            2.0   \n",
       "Amy               5.0           3.0        4.0         5.0            5.0   \n",
       "Ian               NaN           1.0        4.0         1.0            NaN   \n",
       "\n",
       "            30Rock  \n",
       "Respondent          \n",
       "Phil           NaN  \n",
       "Ruth           NaN  \n",
       "Jill           1.0  \n",
       "Amy            3.0  \n",
       "Ian            4.0  "
      ]
     },
     "execution_count": 96,
     "metadata": {},
     "output_type": "execute_result"
    }
   ],
   "source": [
    "#make Respondent column the index\n",
    "df2=df.set_index('Respondent')\n",
    "\n",
    "#show df2\n",
    "df2"
   ]
  },
  {
   "cell_type": "markdown",
   "metadata": {},
   "source": [
    "#### Step 2. Get average for TV shows (sum of all rankings/number of cells with numbers)"
   ]
  },
  {
   "cell_type": "code",
   "execution_count": 97,
   "metadata": {},
   "outputs": [
    {
     "data": {
      "text/plain": [
       "2.857142857142857"
      ]
     },
     "execution_count": 97,
     "metadata": {},
     "output_type": "execute_result"
    }
   ],
   "source": [
    "#get sum of df2\n",
    "sum_df2=df2.sum().sum()\n",
    "\n",
    "#get number of cells with numbers in them\n",
    "cell_number=df2.count().sum()\n",
    "\n",
    "#get tv average\n",
    "tv_avg=(sum_df2/cell_number)\n",
    "\n",
    "tv_avg"
   ]
  },
  {
   "cell_type": "markdown",
   "metadata": {},
   "source": [
    "#### Step 3. Get mean of every row and subtract all the means by the TV average"
   ]
  },
  {
   "cell_type": "code",
   "execution_count": 98,
   "metadata": {},
   "outputs": [
    {
     "data": {
      "text/plain": [
       "Respondent\n",
       "Phil    3.000000\n",
       "Ruth    1.000000\n",
       "Jill    2.200000\n",
       "Amy     4.166667\n",
       "Ian     2.500000\n",
       "dtype: float64"
      ]
     },
     "execution_count": 98,
     "metadata": {},
     "output_type": "execute_result"
    }
   ],
   "source": [
    "row_mean=df2.mean(axis=1)\n",
    "row_mean"
   ]
  },
  {
   "cell_type": "code",
   "execution_count": 99,
   "metadata": {},
   "outputs": [
    {
     "data": {
      "text/plain": [
       "Respondent\n",
       "Phil    0.142857\n",
       "Ruth   -1.857143\n",
       "Jill   -0.657143\n",
       "Amy     1.309524\n",
       "Ian    -0.357143\n",
       "dtype: float64"
      ]
     },
     "execution_count": 99,
     "metadata": {},
     "output_type": "execute_result"
    }
   ],
   "source": [
    "user_deviation=(row_mean-tv_avg)\n",
    "\n",
    "user_deviation"
   ]
  },
  {
   "cell_type": "markdown",
   "metadata": {},
   "source": [
    "#### Step 4. Get mean of TV show columns and subtract all those means by the TV average"
   ]
  },
  {
   "cell_type": "code",
   "execution_count": 100,
   "metadata": {},
   "outputs": [
    {
     "data": {
      "text/plain": [
       "Parks&Rec        2.750000\n",
       "ModernFamily     2.750000\n",
       "TheOffice        3.333333\n",
       "Brooklyn99       2.000000\n",
       "BigBangTheory    4.000000\n",
       "30Rock           2.666667\n",
       "dtype: float64"
      ]
     },
     "execution_count": 100,
     "metadata": {},
     "output_type": "execute_result"
    }
   ],
   "source": [
    "column_mean=df2.mean()\n",
    "\n",
    "column_mean"
   ]
  },
  {
   "cell_type": "code",
   "execution_count": 101,
   "metadata": {},
   "outputs": [
    {
     "data": {
      "text/plain": [
       "Parks&Rec       -0.107143\n",
       "ModernFamily    -0.107143\n",
       "TheOffice        0.476190\n",
       "Brooklyn99      -0.857143\n",
       "BigBangTheory    1.142857\n",
       "30Rock          -0.190476\n",
       "dtype: float64"
      ]
     },
     "execution_count": 101,
     "metadata": {},
     "output_type": "execute_result"
    }
   ],
   "source": [
    "tv_deviation = (column_mean-tv_avg)\n",
    "\n",
    "tv_deviation"
   ]
  },
  {
   "cell_type": "markdown",
   "metadata": {},
   "source": [
    "#### Now we have the whole TV average, the user deviations, and the TV show deviations"
   ]
  },
  {
   "cell_type": "markdown",
   "metadata": {},
   "source": [
    "#### Step 5. Get Global Baseline Estimate\n",
    "\n",
    "Global Baseline Estimate = TV average + user deviation + tv deviation"
   ]
  },
  {
   "cell_type": "code",
   "execution_count": 102,
   "metadata": {},
   "outputs": [
    {
     "name": "stdout",
     "output_type": "stream",
     "text": [
      "2.857142857142857\n",
      "Respondent\n",
      "Phil    0.142857\n",
      "Ruth   -1.857143\n",
      "Jill   -0.657143\n",
      "Amy     1.309524\n",
      "Ian    -0.357143\n",
      "dtype: float64\n",
      "Parks&Rec       -0.107143\n",
      "ModernFamily    -0.107143\n",
      "TheOffice        0.476190\n",
      "Brooklyn99      -0.857143\n",
      "BigBangTheory    1.142857\n",
      "30Rock          -0.190476\n",
      "dtype: float64\n"
     ]
    }
   ],
   "source": [
    "#see all compenents to the equation\n",
    "\n",
    "print(tv_avg)\n",
    "print(user_deviation)\n",
    "print(tv_deviation)"
   ]
  },
  {
   "cell_type": "code",
   "execution_count": 103,
   "metadata": {},
   "outputs": [
    {
     "data": {
      "text/html": [
       "<div>\n",
       "<style scoped>\n",
       "    .dataframe tbody tr th:only-of-type {\n",
       "        vertical-align: middle;\n",
       "    }\n",
       "\n",
       "    .dataframe tbody tr th {\n",
       "        vertical-align: top;\n",
       "    }\n",
       "\n",
       "    .dataframe thead th {\n",
       "        text-align: right;\n",
       "    }\n",
       "</style>\n",
       "<table border=\"1\" class=\"dataframe\">\n",
       "  <thead>\n",
       "    <tr style=\"text-align: right;\">\n",
       "      <th></th>\n",
       "      <th>Parks&amp;Rec</th>\n",
       "      <th>ModernFamily</th>\n",
       "      <th>TheOffice</th>\n",
       "      <th>Brooklyn99</th>\n",
       "      <th>BigBangTheory</th>\n",
       "      <th>30Rock</th>\n",
       "    </tr>\n",
       "    <tr>\n",
       "      <th>Respondent</th>\n",
       "      <th></th>\n",
       "      <th></th>\n",
       "      <th></th>\n",
       "      <th></th>\n",
       "      <th></th>\n",
       "      <th></th>\n",
       "    </tr>\n",
       "  </thead>\n",
       "  <tbody>\n",
       "    <tr>\n",
       "      <th>Phil</th>\n",
       "      <td>3.0</td>\n",
       "      <td>3.0</td>\n",
       "      <td>NaN</td>\n",
       "      <td>1.0</td>\n",
       "      <td>5.0</td>\n",
       "      <td>NaN</td>\n",
       "    </tr>\n",
       "    <tr>\n",
       "      <th>Ruth</th>\n",
       "      <td>1.0</td>\n",
       "      <td>NaN</td>\n",
       "      <td>NaN</td>\n",
       "      <td>1.0</td>\n",
       "      <td>NaN</td>\n",
       "      <td>NaN</td>\n",
       "    </tr>\n",
       "    <tr>\n",
       "      <th>Jill</th>\n",
       "      <td>2.0</td>\n",
       "      <td>4.0</td>\n",
       "      <td>2.0</td>\n",
       "      <td>NaN</td>\n",
       "      <td>2.0</td>\n",
       "      <td>1.0</td>\n",
       "    </tr>\n",
       "    <tr>\n",
       "      <th>Amy</th>\n",
       "      <td>5.0</td>\n",
       "      <td>3.0</td>\n",
       "      <td>4.0</td>\n",
       "      <td>5.0</td>\n",
       "      <td>5.0</td>\n",
       "      <td>3.0</td>\n",
       "    </tr>\n",
       "    <tr>\n",
       "      <th>Ian</th>\n",
       "      <td>NaN</td>\n",
       "      <td>1.0</td>\n",
       "      <td>4.0</td>\n",
       "      <td>1.0</td>\n",
       "      <td>NaN</td>\n",
       "      <td>4.0</td>\n",
       "    </tr>\n",
       "  </tbody>\n",
       "</table>\n",
       "</div>"
      ],
      "text/plain": [
       "            Parks&Rec  ModernFamily  TheOffice  Brooklyn99  BigBangTheory  \\\n",
       "Respondent                                                                  \n",
       "Phil              3.0           3.0        NaN         1.0            5.0   \n",
       "Ruth              1.0           NaN        NaN         1.0            NaN   \n",
       "Jill              2.0           4.0        2.0         NaN            2.0   \n",
       "Amy               5.0           3.0        4.0         5.0            5.0   \n",
       "Ian               NaN           1.0        4.0         1.0            NaN   \n",
       "\n",
       "            30Rock  \n",
       "Respondent          \n",
       "Phil           NaN  \n",
       "Ruth           NaN  \n",
       "Jill           1.0  \n",
       "Amy            3.0  \n",
       "Ian            4.0  "
      ]
     },
     "execution_count": 103,
     "metadata": {},
     "output_type": "execute_result"
    }
   ],
   "source": [
    "#see dataframe for nulls\n",
    "\n",
    "df2"
   ]
  },
  {
   "cell_type": "markdown",
   "metadata": {},
   "source": [
    "For each respondent, replace their NaNs with the appropriate global baseline estimate:"
   ]
  },
  {
   "cell_type": "code",
   "execution_count": 104,
   "metadata": {},
   "outputs": [],
   "source": [
    "#phil\n",
    "values = {\"TheOffice\": tv_avg+user_deviation[0]+tv_deviation[2], \n",
    "          \"30Rock\": tv_avg+user_deviation[0]+tv_deviation[5]}\n",
    "phil=df2.iloc[0].fillna(value=values)"
   ]
  },
  {
   "cell_type": "code",
   "execution_count": 105,
   "metadata": {},
   "outputs": [],
   "source": [
    "#ruth\n",
    "values2 = {\"ModernFamily\": tv_avg+user_deviation[1]+tv_deviation[1], \n",
    "           \"TheOffice\": tv_avg+user_deviation[1]+tv_deviation[2],\n",
    "           \"BigBangTheory\": tv_avg+user_deviation[1]+tv_deviation[4],\n",
    "           \"30Rock\": tv_avg+user_deviation[1]+tv_deviation[5]\n",
    "          }\n",
    "ruth=df2.iloc[1].fillna(value=values2)"
   ]
  },
  {
   "cell_type": "code",
   "execution_count": 106,
   "metadata": {},
   "outputs": [],
   "source": [
    "#jill\n",
    "values3 = {\"Brooklyn99\": tv_avg+user_deviation[2]+tv_deviation[3]}\n",
    "jill=df2.iloc[2].fillna(value=values3)"
   ]
  },
  {
   "cell_type": "markdown",
   "metadata": {},
   "source": [
    "#### Amy has no nulls - she's seen all the shows, so nothing to recommend to her"
   ]
  },
  {
   "cell_type": "code",
   "execution_count": 107,
   "metadata": {},
   "outputs": [],
   "source": [
    "#ian\n",
    "values4 = {\"Parks&Rec\": tv_avg+user_deviation[4]+tv_deviation[0],\n",
    "          \"BigBangTheory\": tv_avg+user_deviation[4]+tv_deviation[4]}\n",
    "ian=df2.iloc[4].fillna(value=values4)"
   ]
  },
  {
   "cell_type": "markdown",
   "metadata": {},
   "source": [
    "#### Recommend a show to a respondent based on the global baseline estimate ratings"
   ]
  },
  {
   "cell_type": "code",
   "execution_count": 108,
   "metadata": {},
   "outputs": [
    {
     "data": {
      "text/plain": [
       "array([[3.        , 3.        , 3.47619048, 1.        , 5.        ,\n",
       "        2.80952381],\n",
       "       [1.        , 0.89285714, 1.47619048, 1.        , 2.14285714,\n",
       "        0.80952381],\n",
       "       [2.        , 4.        , 2.        , 1.34285714, 2.        ,\n",
       "        1.        ],\n",
       "       [2.39285714, 1.        , 4.        , 1.        , 3.64285714,\n",
       "        4.        ]])"
      ]
     },
     "execution_count": 108,
     "metadata": {},
     "output_type": "execute_result"
    }
   ],
   "source": [
    "import numpy as np\n",
    "\n",
    "#create list of lists \n",
    "\n",
    "lists = np.array([phil, ruth, jill, ian])\n",
    "lists"
   ]
  },
  {
   "cell_type": "code",
   "execution_count": 109,
   "metadata": {},
   "outputs": [
    {
     "data": {
      "text/html": [
       "<div>\n",
       "<style scoped>\n",
       "    .dataframe tbody tr th:only-of-type {\n",
       "        vertical-align: middle;\n",
       "    }\n",
       "\n",
       "    .dataframe tbody tr th {\n",
       "        vertical-align: top;\n",
       "    }\n",
       "\n",
       "    .dataframe thead th {\n",
       "        text-align: right;\n",
       "    }\n",
       "</style>\n",
       "<table border=\"1\" class=\"dataframe\">\n",
       "  <thead>\n",
       "    <tr style=\"text-align: right;\">\n",
       "      <th></th>\n",
       "      <th>Parks&amp;Rec</th>\n",
       "      <th>ModernFamily</th>\n",
       "      <th>TheOffice</th>\n",
       "      <th>Brooklyn99</th>\n",
       "      <th>BigBangTheory</th>\n",
       "      <th>30Rock</th>\n",
       "    </tr>\n",
       "    <tr>\n",
       "      <th>Respondent</th>\n",
       "      <th></th>\n",
       "      <th></th>\n",
       "      <th></th>\n",
       "      <th></th>\n",
       "      <th></th>\n",
       "      <th></th>\n",
       "    </tr>\n",
       "  </thead>\n",
       "  <tbody>\n",
       "    <tr>\n",
       "      <th>Phil</th>\n",
       "      <td>3.000000</td>\n",
       "      <td>3.000000</td>\n",
       "      <td>3.47619</td>\n",
       "      <td>1.000000</td>\n",
       "      <td>5.000000</td>\n",
       "      <td>2.809524</td>\n",
       "    </tr>\n",
       "    <tr>\n",
       "      <th>Ruth</th>\n",
       "      <td>1.000000</td>\n",
       "      <td>0.892857</td>\n",
       "      <td>1.47619</td>\n",
       "      <td>1.000000</td>\n",
       "      <td>2.142857</td>\n",
       "      <td>0.809524</td>\n",
       "    </tr>\n",
       "    <tr>\n",
       "      <th>Jill</th>\n",
       "      <td>2.000000</td>\n",
       "      <td>4.000000</td>\n",
       "      <td>2.00000</td>\n",
       "      <td>1.342857</td>\n",
       "      <td>2.000000</td>\n",
       "      <td>1.000000</td>\n",
       "    </tr>\n",
       "    <tr>\n",
       "      <th>Ian</th>\n",
       "      <td>2.392857</td>\n",
       "      <td>1.000000</td>\n",
       "      <td>4.00000</td>\n",
       "      <td>1.000000</td>\n",
       "      <td>3.642857</td>\n",
       "      <td>4.000000</td>\n",
       "    </tr>\n",
       "  </tbody>\n",
       "</table>\n",
       "</div>"
      ],
      "text/plain": [
       "            Parks&Rec  ModernFamily  TheOffice  Brooklyn99  BigBangTheory  \\\n",
       "Respondent                                                                  \n",
       "Phil         3.000000      3.000000    3.47619    1.000000       5.000000   \n",
       "Ruth         1.000000      0.892857    1.47619    1.000000       2.142857   \n",
       "Jill         2.000000      4.000000    2.00000    1.342857       2.000000   \n",
       "Ian          2.392857      1.000000    4.00000    1.000000       3.642857   \n",
       "\n",
       "              30Rock  \n",
       "Respondent            \n",
       "Phil        2.809524  \n",
       "Ruth        0.809524  \n",
       "Jill        1.000000  \n",
       "Ian         4.000000  "
      ]
     },
     "execution_count": 109,
     "metadata": {},
     "output_type": "execute_result"
    }
   ],
   "source": [
    "#create new df with new ratings (minus Amy because she has none)\n",
    "new_df = pd.DataFrame(lists, columns= ['Parks&Rec','ModernFamily',\n",
    "                                        'TheOffice','Brooklyn99',\n",
    "                                        'BigBangTheory','30Rock'])\n",
    "#add respondent column\n",
    "new_df['Respondent']=['Phil','Ruth','Jill','Ian']\n",
    "\n",
    "#new df called ratings with respondent as the index\n",
    "ratings=new_df.set_index('Respondent')\n",
    "\n",
    "ratings"
   ]
  },
  {
   "cell_type": "markdown",
   "metadata": {},
   "source": [
    "I'd recommend the Big Bang Theory to Ruth. She's pretty harsh in her rankings of sitcoms, with most coming in below 1.5. However, her global baseline estimate for the Big Bang Theory gets to a 2.14. If she were to give another sitcom a shot, I'd recommend the Big Bang Theory to her."
   ]
  }
 ],
 "metadata": {
  "kernelspec": {
   "display_name": "Python 3",
   "language": "python",
   "name": "python3"
  },
  "language_info": {
   "codemirror_mode": {
    "name": "ipython",
    "version": 3
   },
   "file_extension": ".py",
   "mimetype": "text/x-python",
   "name": "python",
   "nbconvert_exporter": "python",
   "pygments_lexer": "ipython3",
   "version": "3.8.3"
  }
 },
 "nbformat": 4,
 "nbformat_minor": 4
}
